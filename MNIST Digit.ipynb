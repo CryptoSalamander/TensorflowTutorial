{
 "cells": [
  {
   "cell_type": "code",
   "execution_count": 1,
   "metadata": {},
   "outputs": [],
   "source": [
    "import numpy as np \n",
    "import pandas as pd\n",
    "import matplotlib.pyplot as plt"
   ]
  },
  {
   "cell_type": "code",
   "execution_count": 2,
   "metadata": {},
   "outputs": [
    {
     "name": "stdout",
     "output_type": "stream",
     "text": [
      "sample_submission.csv\n",
      "test.csv\n",
      "train.csv\n",
      "\n"
     ]
    }
   ],
   "source": [
    "from subprocess import check_output\n",
    "print(check_output([\"ls\",\"all\"]).decode(\"utf8\"))"
   ]
  },
  {
   "cell_type": "code",
   "execution_count": 3,
   "metadata": {},
   "outputs": [
    {
     "name": "stderr",
     "output_type": "stream",
     "text": [
      "Using TensorFlow backend.\n"
     ]
    }
   ],
   "source": [
    "import tensorflow as tf\n",
    "import pickle\n",
    "from keras.utils.np_utils import to_categorical"
   ]
  },
  {
   "cell_type": "code",
   "execution_count": 35,
   "metadata": {},
   "outputs": [
    {
     "name": "stdout",
     "output_type": "stream",
     "text": [
      "(42000, 785)\n",
      "(42000, 784)\n",
      "(42000,)\n"
     ]
    }
   ],
   "source": [
    "train_data0 = pd.read_csv(\"all/train.csv\")\n",
    "print(train_data0.shape)\n",
    "train_data = np.array(train_data0.iloc[:, 1:785])\n",
    "train_label = np.array(train_data0.iloc[:,0])\n",
    "print(train_data.shape)\n",
    "print(train_label.shape)"
   ]
  },
  {
   "cell_type": "code",
   "execution_count": 23,
   "metadata": {},
   "outputs": [
    {
     "name": "stdout",
     "output_type": "stream",
     "text": [
      "[[0. 1. 0. 0. 0. 0. 0. 0. 0. 0.]\n",
      " [1. 0. 0. 0. 0. 0. 0. 0. 0. 0.]\n",
      " [0. 1. 0. 0. 0. 0. 0. 0. 0. 0.]\n",
      " [0. 0. 0. 0. 1. 0. 0. 0. 0. 0.]\n",
      " [1. 0. 0. 0. 0. 0. 0. 0. 0. 0.]\n",
      " [1. 0. 0. 0. 0. 0. 0. 0. 0. 0.]\n",
      " [0. 0. 0. 0. 0. 0. 0. 1. 0. 0.]\n",
      " [0. 0. 0. 1. 0. 0. 0. 0. 0. 0.]\n",
      " [0. 0. 0. 0. 0. 1. 0. 0. 0. 0.]\n",
      " [0. 0. 0. 1. 0. 0. 0. 0. 0. 0.]]\n"
     ]
    }
   ],
   "source": [
    "train_label = to_categorical(train_label, num_classes=10)\n",
    "print(train_label[:10,:])"
   ]
  },
  {
   "cell_type": "code",
   "execution_count": 26,
   "metadata": {},
   "outputs": [
    {
     "name": "stdout",
     "output_type": "stream",
     "text": [
      "(28000, 784)\n"
     ]
    }
   ],
   "source": [
    "test_data0 = pd.read_csv(\"all/test.csv\")\n",
    "print(test_data0.shape)"
   ]
  },
  {
   "cell_type": "code",
   "execution_count": 34,
   "metadata": {},
   "outputs": [
    {
     "name": "stdout",
     "output_type": "stream",
     "text": [
      "(28000, 784)\n"
     ]
    }
   ],
   "source": [
    "test_data = np.array(test_data0)\n",
    "print(test_data.shape)"
   ]
  },
  {
   "cell_type": "code",
   "execution_count": 52,
   "metadata": {},
   "outputs": [
    {
     "name": "stdout",
     "output_type": "stream",
     "text": [
      "[1 0 1 4 0 0 7 3 5 3]\n",
      "is equivalent to :\n",
      "[[0. 1. 0. 0. 0. 0. 0. 0. 0. 0.]\n",
      " [1. 0. 0. 0. 0. 0. 0. 0. 0. 0.]\n",
      " [0. 1. 0. 0. 0. 0. 0. 0. 0. 0.]\n",
      " [0. 0. 0. 0. 1. 0. 0. 0. 0. 0.]\n",
      " [1. 0. 0. 0. 0. 0. 0. 0. 0. 0.]\n",
      " [1. 0. 0. 0. 0. 0. 0. 0. 0. 0.]\n",
      " [0. 0. 0. 0. 0. 0. 0. 1. 0. 0.]\n",
      " [0. 0. 0. 1. 0. 0. 0. 0. 0. 0.]\n",
      " [0. 0. 0. 0. 0. 1. 0. 0. 0. 0.]\n",
      " [0. 0. 0. 1. 0. 0. 0. 0. 0. 0.]]\n"
     ]
    }
   ],
   "source": [
    "print(np.array(train_data0.iloc[:,0])[:10])\n",
    "print('is equivalent to :')\n",
    "print(train_label[:10])"
   ]
  },
  {
   "cell_type": "code",
   "execution_count": 36,
   "metadata": {},
   "outputs": [
    {
     "name": "stdout",
     "output_type": "stream",
     "text": [
      "[  0   0   0   0   0   0   0   0   0   0   0   0   0   0   0   0   0   0\n",
      "   0   0   0   0   0   0   0   0   0   0   0   0   0   0   0   0   0   0\n",
      "   0   0   0   0   0   0   0   0   0   0   0   0   0   0   0   0   0   0\n",
      "   0   0   0   0   0   0   0   0   0   0   0   0   0   0   0   0   0   0\n",
      "   0   0   0   0   0   0   0   0   0   0   0   0   0   0   0   0   0   0\n",
      "   0   0   0   0   0   0   0   0   0   0   0   0   0   0   0   0   0   0\n",
      "   0   0   0   0   0   0   0   0   0   0   0   5  60 136 136 147 254 255\n",
      " 199 111  18   9   0   0   0   0   0   0   0   0   0   0   0   0   0   0\n",
      "   0   0  25 152 253 253 253 253 253 253 253 253 253 124   0   0   0   0\n",
      "   0   0   0   0   0   0   0   0   0   0   0   0 135 225 244 253 202 200\n",
      " 181 164 216 253 253 211 151   0   0   0   0   0   0   0   0   0   0   0\n",
      "   0   0   0   0   0  30 149  78   3   0   0   0  20 134 253 253 224   0\n",
      "   0   0   0   0   0   0   0   0   0   0   0   0   0   0   0   0   0   0\n",
      "   0   0   0   0  28 206 253 253 224   0   0   0   0   0   0   0   0   0\n",
      "   0   0   0   0   0   0   0   0   0   0   0   0   0   0  78 253 253 253\n",
      " 224   0   0   0   0   0   0   0   0   0   0   0   0   0   0   0   0   0\n",
      "   0   0   0   0   0   5  99 234 253 253 224   0   0   0   0   0   0   0\n",
      "   0   0   0   0   0   0   0   0   0   0   0   0   0  14 142 220 219 236\n",
      " 253 253 240 121   7   0   0   0   0   0   0   0   0   0   0   0   0   0\n",
      "   0   0   0   0   0  24 253 253 253 253 235 233 253 253 185  53   0   0\n",
      "   0   0   0   0   0   0   0   0   0   0   0   0   0   0   0   8 150 194\n",
      " 194 194  53  40  97 253 253 170   0   0   0   0   0   0   0   0   0   0\n",
      "   0   0   0   0   0   0   0   0   0   0   0   0   0   0 122 253 253 170\n",
      "   0   0   0   0   0   0   0   0   0   0   0   0   0   0   0   0   0   0\n",
      "   0   0   0   0   0  55 237 253 253 170   0   0   0   0   0   0   0   0\n",
      "   0   0   0   0   0   0   0   0   0   0   0   0   0   0   0 130 253 253\n",
      " 253 170   0   0   0   0   0   0   0   0   0   0   0   0   0   0   0   0\n",
      "   0   0   0   0   4  12 120 193 253 253 214  28   0   0   0   0   0   0\n",
      "   0   0   0   0   0   0   0   0   0   0   0   0   0   7 153 253 253 253\n",
      " 253 212  30   0   0   0   0   0   0   0   0   0   0   0   0   0  33 136\n",
      "  70   6   0  27  67 186 253 253 253 253 234  31   0   0   0   0   0   0\n",
      "   0   0   0   0   0   0   0  26 231 253 253 191 183 223 253 253 253 253\n",
      " 172 216 112   0   0   0   0   0   0   0   0   0   0   0   0   0   0  36\n",
      " 215 253 253 253 253 253 253 253 253 253  47  25   0   0   0   0   0   0\n",
      "   0   0   0   0   0   0   0   0   0   5  87 223 253 253 253 244 152 223\n",
      " 223 109   4   0   0   0   0   0   0   0   0   0   0   0   0   0   0   0\n",
      "   0   0  67  50 176 148  78  16   0  12  12   0   0   0   0   0   0   0\n",
      "   0   0   0   0   0   0   0   0   0   0   0   0   0   0   0   0   0   0\n",
      "   0   0   0   0   0   0   0   0   0   0   0   0   0   0   0   0   0   0\n",
      "   0   0   0   0   0   0   0   0   0   0   0   0   0   0   0   0   0   0\n",
      "   0   0   0   0   0   0   0   0   0   0   0   0   0   0   0   0   0   0\n",
      "   0   0   0   0   0   0   0   0   0   0   0   0   0   0   0   0   0   0\n",
      "   0   0   0   0   0   0   0   0   0   0   0   0   0   0   0   0   0   0\n",
      "   0   0   0   0   0   0   0   0   0   0]\n"
     ]
    },
    {
     "data": {
      "image/png": "[encoded data removed]",
      "text/plain": [
       "<Figure size 432x288 with 1 Axes>"
      ]
     },
     "metadata": {
      "needs_background": "light"
     },
     "output_type": "display_data"
    }
   ],
   "source": [
    "print(train_data[9])\n",
    "pixels = train_data[9].reshape((28,28))\n",
    "plt.imshow(pixels, cmap='gray')\n",
    "plt.show()"
   ]
  },
  {
   "cell_type": "code",
   "execution_count": 33,
   "metadata": {},
   "outputs": [
    {
     "data": {
      "image/png": "[encoded data removed]",
      "text/plain": [
       "<Figure size 432x288 with 1 Axes>"
      ]
     },
     "metadata": {
      "needs_background": "light"
     },
     "output_type": "display_data"
    }
   ],
   "source": [
    "pixels = train_data[7].reshape((28,28))\n",
    "plt.imshow(pixels, cmap='gray')\n",
    "plt.show()"
   ]
  },
  {
   "cell_type": "code",
   "execution_count": 55,
   "metadata": {},
   "outputs": [
    {
     "data": {
      "image/png": "[encoded data removed]",
      "text/plain": [
       "<Figure size 432x288 with 1 Axes>"
      ]
     },
     "metadata": {
      "needs_background": "light"
     },
     "output_type": "display_data"
    }
   ],
   "source": [
    "pixels = train_data[6].reshape((28,28))\n",
    "plt.imshow(pixels, cmap='gray')\n",
    "plt.show()"
   ]
  },
  {
   "cell_type": "code",
   "execution_count": 47,
   "metadata": {},
   "outputs": [
    {
     "name": "stdout",
     "output_type": "stream",
     "text": [
      "<tf.Variable 'Variable_55:0' shape=() dtype=int32_ref>\n",
      "<tf.Variable 'Variable_56:0' shape=(5, 5, 1, 32) dtype=float32_ref>\n"
     ]
    }
   ],
   "source": [
    "learning_rate = 0.00005\n",
    "epoch = 40\n",
    "batch_size = 20\n",
    "\n",
    "n_input = 784\n",
    "n_classes = 10\n",
    "\n",
    "X = tf.placeholder(tf.float32, [None, n_input])\n",
    "y = tf.placeholder(tf.float32, [None, n_classes])\n",
    "\n",
    "def conv2d(name, x, W, b, strides=1):\n",
    "    x = tf.nn.conv2d(x, W, strides=[1, strides, strides, 1], padding='SAME')\n",
    "    x = tf.nn.bias_add(x, b)\n",
    "    return tf.nn.elu(x, name=name)\n",
    "\n",
    "def maxpool2d(name, x, k=2):\n",
    "    return tf.nn.max_pool(x, ksize=[1,k,k,1], strides=[1,k,k,1], padding = 'SAME')\n",
    "\n",
    "weights = {\n",
    "    'W1' : tf.Variable(tf.truncated_normal([5,5,1,32], stddev=0.1)),\n",
    "    'W2' : tf.Variable(tf.truncated_normal([5,5,32,64], stddev=0.1)),\n",
    "    'W4' : tf.Variable(tf.truncated_normal([64*7*7,784],stddev=0.1)),\n",
    "    'Wo' : tf.Variable(tf.truncated_normal([784,n_classes], stddev=0.1))\n",
    "}\n",
    "a = tf.Variable(1)\n",
    "print(a)\n",
    "print(tf.Variable(tf.truncated_normal([5,5,1,32],stddev=0.1)))\n",
    "\n",
    "biases = {\n",
    "    'b1' : tf.Variable(tf.random_normal([32],stddev=0.1)),\n",
    "    'b2' : tf.Variable(tf.random_normal([64], stddev=0.1)),\n",
    "    'b4' : tf.Variable(tf.random_normal([784], stddev=0.1)),\n",
    "    'bo' : tf.Variable(tf.random_normal([n_classes], stddev=0.1))\n",
    "}"
   ]
  },
  {
   "cell_type": "code",
   "execution_count": 57,
   "metadata": {},
   "outputs": [],
   "source": [
    "def model(X, weights , biases):\n",
    "    x = tf.reshape(X, [-1,28,28,1]) #padding\n",
    "    x = x/255 #normalization\n",
    "    \n",
    "    conv1 = tf.nn.elu(conv2d('conv1', x, weights['W1'], biases['b1'])) \n",
    "    pool1 = maxpool2d('pool1', conv1, k=2)\n",
    "    \n",
    "    conv2 = tf.nn.elu(conv2d('conv2',pool1,weights['W2'],biases['b2']))\n",
    "    pool2 = maxpool2d('pool2',conv2,k=2)\n",
    "    \n",
    "    fc = tf.reshape(pool2, [-1, weights['W4'].get_shape().as_list()[0]])\n",
    "    fc = tf.add(tf.matmul(fc,weights['W4']), biases['b4'])\n",
    "    fc = tf.nn.elu(fc)\n",
    "    \n",
    "    a = tf.add(tf.matmul(fc, weights['Wo']), biases['bo'])\n",
    "    return a"
   ]
  },
  {
   "cell_type": "code",
   "execution_count": 58,
   "metadata": {},
   "outputs": [],
   "source": [
    "pred = model(X, weights, biases)"
   ]
  },
  {
   "cell_type": "code",
   "execution_count": 59,
   "metadata": {},
   "outputs": [],
   "source": [
    "cost = tf.reduce_mean(tf.nn.softmax_cross_entropy_with_logits_v2(logits=pred, labels=y))\n",
    "optimizer = tf.train.AdamOptimizer(learning_rate).minimize(cost)\n",
    "label = tf.argmax(pred,1)"
   ]
  },
  {
   "cell_type": "code",
   "execution_count": 60,
   "metadata": {},
   "outputs": [],
   "source": [
    "correct_pred = tf.equal(label, tf.argmax(y,1))\n",
    "accuracy = tf.reduce_mean(tf.cast(correct_pred, tf.float32))"
   ]
  },
  {
   "cell_type": "code",
   "execution_count": 61,
   "metadata": {},
   "outputs": [
    {
     "name": "stdout",
     "output_type": "stream",
     "text": [
      "Iter 100, Minibatch Loss = 2.22756290436, Training accuracy = 0.20000000298\n",
      "Iter 200, Minibatch Loss = 1.47197127342, Training accuracy = 0.600000023842\n",
      "Iter 300, Minibatch Loss = 1.22464263439, Training accuracy = 0.600000023842\n",
      "Iter 400, Minibatch Loss = 1.00303459167, Training accuracy = 0.699999988079\n",
      "Iter 500, Minibatch Loss = 0.91278553009, Training accuracy = 0.600000023842\n",
      "Iter 600, Minibatch Loss = 0.953575491905, Training accuracy = 0.600000023842\n",
      "Iter 700, Minibatch Loss = 0.731966853142, Training accuracy = 0.699999988079\n",
      "Iter 800, Minibatch Loss = 0.613800227642, Training accuracy = 0.800000011921\n",
      "Iter 900, Minibatch Loss = 0.385223686695, Training accuracy = 0.899999976158\n",
      "Iter 1000, Minibatch Loss = 0.489326417446, Training accuracy = 0.899999976158\n",
      "Iter 1100, Minibatch Loss = 0.983053028584, Training accuracy = 0.699999988079\n",
      "Iter 1200, Minibatch Loss = 0.922894477844, Training accuracy = 0.699999988079\n",
      "Iter 1300, Minibatch Loss = 1.16084730625, Training accuracy = 0.600000023842\n",
      "Iter 1400, Minibatch Loss = 0.434795230627, Training accuracy = 0.899999976158\n",
      "Iter 1500, Minibatch Loss = 0.202212169766, Training accuracy = 1.0\n",
      "Iter 1600, Minibatch Loss = 0.198506683111, Training accuracy = 0.899999976158\n",
      "Iter 1700, Minibatch Loss = 0.0721758231521, Training accuracy = 1.0\n",
      "Iter 1800, Minibatch Loss = 0.313405930996, Training accuracy = 0.800000011921\n",
      "Iter 1900, Minibatch Loss = 0.137322947383, Training accuracy = 1.0\n",
      "Iter 2000, Minibatch Loss = 0.202626615763, Training accuracy = 1.0\n",
      "Iter 2100, Minibatch Loss = 0.18504627049, Training accuracy = 0.899999976158\n",
      "Iter 2200, Minibatch Loss = 0.138153269887, Training accuracy = 0.899999976158\n",
      "Iter 2300, Minibatch Loss = 0.289972633123, Training accuracy = 0.899999976158\n",
      "Iter 2400, Minibatch Loss = 0.153898864985, Training accuracy = 0.899999976158\n",
      "Iter 2500, Minibatch Loss = 0.254063427448, Training accuracy = 0.899999976158\n",
      "Iter 2600, Minibatch Loss = 0.0591100826859, Training accuracy = 1.0\n",
      "Iter 2700, Minibatch Loss = 0.583254396915, Training accuracy = 0.899999976158\n",
      "Iter 2800, Minibatch Loss = 0.564308822155, Training accuracy = 0.800000011921\n",
      "Iter 2900, Minibatch Loss = 0.212425589561, Training accuracy = 0.899999976158\n",
      "Iter 3000, Minibatch Loss = 0.452349483967, Training accuracy = 0.800000011921\n",
      "Iter 3100, Minibatch Loss = 0.527801215649, Training accuracy = 0.800000011921\n",
      "Iter 3200, Minibatch Loss = 0.41130656004, Training accuracy = 0.899999976158\n",
      "Iter 3300, Minibatch Loss = 0.364243745804, Training accuracy = 0.800000011921\n",
      "Iter 3400, Minibatch Loss = 0.094645678997, Training accuracy = 1.0\n",
      "Iter 3500, Minibatch Loss = 0.348956227303, Training accuracy = 0.899999976158\n",
      "Iter 3600, Minibatch Loss = 0.104260072112, Training accuracy = 1.0\n",
      "Iter 3700, Minibatch Loss = 0.0911364778876, Training accuracy = 1.0\n",
      "Iter 3800, Minibatch Loss = 0.204686835408, Training accuracy = 0.800000011921\n",
      "Iter 3900, Minibatch Loss = 0.480857431889, Training accuracy = 0.899999976158\n",
      "Iter 4000, Minibatch Loss = 0.186751514673, Training accuracy = 0.899999976158\n",
      "Iter 4100, Minibatch Loss = 0.0317121073604, Training accuracy = 1.0\n",
      "Iter 4200, Minibatch Loss = 0.0238961111754, Training accuracy = 1.0\n",
      "Iter 100, Minibatch Loss = 0.0462845154107, Training accuracy = 1.0\n",
      "Iter 200, Minibatch Loss = 0.0356685332954, Training accuracy = 1.0\n",
      "Iter 300, Minibatch Loss = 0.0734488293529, Training accuracy = 1.0\n",
      "Iter 400, Minibatch Loss = 0.360227525234, Training accuracy = 0.899999976158\n",
      "Iter 500, Minibatch Loss = 0.0298096053302, Training accuracy = 1.0\n",
      "Iter 600, Minibatch Loss = 0.587853431702, Training accuracy = 0.800000011921\n",
      "Iter 700, Minibatch Loss = 0.0569052584469, Training accuracy = 1.0\n",
      "Iter 800, Minibatch Loss = 0.38946056366, Training accuracy = 0.800000011921\n",
      "Iter 900, Minibatch Loss = 0.0715129822493, Training accuracy = 1.0\n",
      "Iter 1000, Minibatch Loss = 0.260687083006, Training accuracy = 0.899999976158\n",
      "Iter 1100, Minibatch Loss = 0.432400166988, Training accuracy = 0.800000011921\n",
      "Iter 1200, Minibatch Loss = 0.42374920845, Training accuracy = 0.800000011921\n",
      "Iter 1300, Minibatch Loss = 0.573134720325, Training accuracy = 0.800000011921\n",
      "Iter 1400, Minibatch Loss = 0.330747753382, Training accuracy = 0.899999976158\n",
      "Iter 1500, Minibatch Loss = 0.0424069948494, Training accuracy = 1.0\n",
      "Iter 1600, Minibatch Loss = 0.0330548658967, Training accuracy = 1.0\n",
      "Iter 1700, Minibatch Loss = 0.0164450276643, Training accuracy = 1.0\n",
      "Iter 1800, Minibatch Loss = 0.0676181167364, Training accuracy = 1.0\n",
      "Iter 1900, Minibatch Loss = 0.073950663209, Training accuracy = 1.0\n",
      "Iter 2000, Minibatch Loss = 0.0896474793553, Training accuracy = 1.0\n",
      "Iter 2100, Minibatch Loss = 0.0450911782682, Training accuracy = 1.0\n",
      "Iter 2200, Minibatch Loss = 0.142813414335, Training accuracy = 0.899999976158\n",
      "Iter 2300, Minibatch Loss = 0.0789743959904, Training accuracy = 1.0\n",
      "Iter 2400, Minibatch Loss = 0.0666138008237, Training accuracy = 1.0\n",
      "Iter 2500, Minibatch Loss = 0.140419214964, Training accuracy = 0.899999976158\n",
      "Iter 2600, Minibatch Loss = 0.0263939611614, Training accuracy = 1.0\n",
      "Iter 2700, Minibatch Loss = 0.277970343828, Training accuracy = 0.899999976158\n",
      "Iter 2800, Minibatch Loss = 0.312103480101, Training accuracy = 0.800000011921\n",
      "Iter 2900, Minibatch Loss = 0.0335111394525, Training accuracy = 1.0\n",
      "Iter 3000, Minibatch Loss = 0.338539481163, Training accuracy = 0.800000011921\n",
      "Iter 3100, Minibatch Loss = 0.281431466341, Training accuracy = 0.899999976158\n",
      "Iter 3200, Minibatch Loss = 0.230712562799, Training accuracy = 0.899999976158\n",
      "Iter 3300, Minibatch Loss = 0.18238158524, Training accuracy = 0.899999976158\n",
      "Iter 3400, Minibatch Loss = 0.0683171376586, Training accuracy = 1.0\n",
      "Iter 3500, Minibatch Loss = 0.245123833418, Training accuracy = 0.899999976158\n",
      "Iter 3600, Minibatch Loss = 0.0438845977187, Training accuracy = 1.0\n",
      "Iter 3700, Minibatch Loss = 0.0198806431144, Training accuracy = 1.0\n",
      "Iter 3800, Minibatch Loss = 0.172484666109, Training accuracy = 0.899999976158\n",
      "Iter 3900, Minibatch Loss = 0.1891733706, Training accuracy = 0.899999976158\n",
      "Iter 4000, Minibatch Loss = 0.154445201159, Training accuracy = 0.899999976158\n",
      "Iter 4100, Minibatch Loss = 0.00992846116424, Training accuracy = 1.0\n",
      "Iter 4200, Minibatch Loss = 0.00921308621764, Training accuracy = 1.0\n",
      "Iter 100, Minibatch Loss = 0.0150951296091, Training accuracy = 1.0\n",
      "Iter 200, Minibatch Loss = 0.0309128761292, Training accuracy = 1.0\n",
      "Iter 300, Minibatch Loss = 0.0341574922204, Training accuracy = 1.0\n",
      "Iter 400, Minibatch Loss = 0.426418125629, Training accuracy = 0.899999976158\n",
      "Iter 500, Minibatch Loss = 0.0102898720652, Training accuracy = 1.0\n",
      "Iter 600, Minibatch Loss = 0.399193614721, Training accuracy = 0.800000011921\n",
      "Iter 700, Minibatch Loss = 0.0125727923587, Training accuracy = 1.0\n",
      "Iter 800, Minibatch Loss = 0.327455431223, Training accuracy = 0.899999976158\n",
      "Iter 900, Minibatch Loss = 0.0387437865138, Training accuracy = 1.0\n",
      "Iter 1000, Minibatch Loss = 0.300555408001, Training accuracy = 0.899999976158\n",
      "Iter 1100, Minibatch Loss = 0.205687969923, Training accuracy = 1.0\n",
      "Iter 1200, Minibatch Loss = 0.191637441516, Training accuracy = 0.899999976158\n",
      "Iter 1300, Minibatch Loss = 0.360309481621, Training accuracy = 0.899999976158\n",
      "Iter 1400, Minibatch Loss = 0.302065759897, Training accuracy = 0.899999976158\n",
      "Iter 1500, Minibatch Loss = 0.0246619377285, Training accuracy = 1.0\n",
      "Iter 1600, Minibatch Loss = 0.0132137630135, Training accuracy = 1.0\n",
      "Iter 1700, Minibatch Loss = 0.00916787609458, Training accuracy = 1.0\n",
      "Iter 1800, Minibatch Loss = 0.0385158844292, Training accuracy = 1.0\n",
      "Iter 1900, Minibatch Loss = 0.0472026839852, Training accuracy = 1.0\n",
      "Iter 2000, Minibatch Loss = 0.055519990623, Training accuracy = 1.0\n",
      "Iter 2100, Minibatch Loss = 0.0177473481745, Training accuracy = 1.0\n",
      "Iter 2200, Minibatch Loss = 0.135211929679, Training accuracy = 0.899999976158\n",
      "Iter 2300, Minibatch Loss = 0.0204067323357, Training accuracy = 1.0\n",
      "Iter 2400, Minibatch Loss = 0.0328886210918, Training accuracy = 1.0\n",
      "Iter 2500, Minibatch Loss = 0.0745586827397, Training accuracy = 1.0\n",
      "Iter 2600, Minibatch Loss = 0.0196073055267, Training accuracy = 1.0\n",
      "Iter 2700, Minibatch Loss = 0.131594151258, Training accuracy = 0.899999976158\n"
     ]
    },
    {
     "name": "stdout",
     "output_type": "stream",
     "text": [
      "Iter 2800, Minibatch Loss = 0.181100219488, Training accuracy = 0.800000011921\n",
      "Iter 2900, Minibatch Loss = 0.0112752299756, Training accuracy = 1.0\n",
      "Iter 3000, Minibatch Loss = 0.235515743494, Training accuracy = 0.899999976158\n",
      "Iter 3100, Minibatch Loss = 0.194180324674, Training accuracy = 0.899999976158\n",
      "Iter 3200, Minibatch Loss = 0.151329085231, Training accuracy = 1.0\n",
      "Iter 3300, Minibatch Loss = 0.112877011299, Training accuracy = 0.899999976158\n",
      "Iter 3400, Minibatch Loss = 0.0466692820191, Training accuracy = 1.0\n",
      "Iter 3500, Minibatch Loss = 0.169158726931, Training accuracy = 0.899999976158\n",
      "Iter 3600, Minibatch Loss = 0.028292587027, Training accuracy = 1.0\n",
      "Iter 3700, Minibatch Loss = 0.00818279385567, Training accuracy = 1.0\n",
      "Iter 3800, Minibatch Loss = 0.12999971211, Training accuracy = 0.899999976158\n",
      "Iter 3900, Minibatch Loss = 0.0671806558967, Training accuracy = 1.0\n",
      "Iter 4000, Minibatch Loss = 0.139138251543, Training accuracy = 0.899999976158\n",
      "Iter 4100, Minibatch Loss = 0.00494813267142, Training accuracy = 1.0\n",
      "Iter 4200, Minibatch Loss = 0.00540150329471, Training accuracy = 1.0\n",
      "Iter 100, Minibatch Loss = 0.00695225223899, Training accuracy = 1.0\n",
      "Iter 200, Minibatch Loss = 0.0242357794195, Training accuracy = 1.0\n",
      "Iter 300, Minibatch Loss = 0.0181031003594, Training accuracy = 1.0\n",
      "Iter 400, Minibatch Loss = 0.462922275066, Training accuracy = 0.899999976158\n",
      "Iter 500, Minibatch Loss = 0.00548626994714, Training accuracy = 1.0\n",
      "Iter 600, Minibatch Loss = 0.258522868156, Training accuracy = 0.800000011921\n",
      "Iter 700, Minibatch Loss = 0.00781861878932, Training accuracy = 1.0\n",
      "Iter 800, Minibatch Loss = 0.285706043243, Training accuracy = 0.899999976158\n",
      "Iter 900, Minibatch Loss = 0.0247712992132, Training accuracy = 1.0\n",
      "Iter 1000, Minibatch Loss = 0.302930086851, Training accuracy = 0.899999976158\n",
      "Iter 1100, Minibatch Loss = 0.102409243584, Training accuracy = 1.0\n",
      "Iter 1200, Minibatch Loss = 0.0914848968387, Training accuracy = 1.0\n",
      "Iter 1300, Minibatch Loss = 0.255138009787, Training accuracy = 0.899999976158\n",
      "Iter 1400, Minibatch Loss = 0.25383874774, Training accuracy = 0.899999976158\n",
      "Iter 1500, Minibatch Loss = 0.0210459586233, Training accuracy = 1.0\n",
      "Iter 1600, Minibatch Loss = 0.00916589982808, Training accuracy = 1.0\n",
      "Iter 1700, Minibatch Loss = 0.00545159820467, Training accuracy = 1.0\n",
      "Iter 1800, Minibatch Loss = 0.0217287894338, Training accuracy = 1.0\n",
      "Iter 1900, Minibatch Loss = 0.0326991081238, Training accuracy = 1.0\n",
      "Iter 2000, Minibatch Loss = 0.0325795598328, Training accuracy = 1.0\n",
      "Iter 2100, Minibatch Loss = 0.00945722777396, Training accuracy = 1.0\n",
      "Iter 2200, Minibatch Loss = 0.126912325621, Training accuracy = 0.899999976158\n",
      "Iter 2300, Minibatch Loss = 0.0100268088281, Training accuracy = 1.0\n",
      "Iter 2400, Minibatch Loss = 0.019189555198, Training accuracy = 1.0\n",
      "Iter 2500, Minibatch Loss = 0.0424954630435, Training accuracy = 1.0\n",
      "Iter 2600, Minibatch Loss = 0.0141608864069, Training accuracy = 1.0\n",
      "Iter 2700, Minibatch Loss = 0.0736273750663, Training accuracy = 1.0\n",
      "Iter 2800, Minibatch Loss = 0.120427109301, Training accuracy = 1.0\n",
      "Iter 2900, Minibatch Loss = 0.00506906816736, Training accuracy = 1.0\n",
      "Iter 3000, Minibatch Loss = 0.172499760985, Training accuracy = 0.899999976158\n",
      "Iter 3100, Minibatch Loss = 0.148872047663, Training accuracy = 0.899999976158\n",
      "Iter 3200, Minibatch Loss = 0.111516691744, Training accuracy = 1.0\n",
      "Iter 3300, Minibatch Loss = 0.0828720554709, Training accuracy = 1.0\n",
      "Iter 3400, Minibatch Loss = 0.0274706277996, Training accuracy = 1.0\n",
      "Iter 3500, Minibatch Loss = 0.108131065965, Training accuracy = 0.899999976158\n",
      "Iter 3600, Minibatch Loss = 0.0240390561521, Training accuracy = 1.0\n",
      "Iter 3700, Minibatch Loss = 0.00523171108216, Training accuracy = 1.0\n",
      "Iter 3800, Minibatch Loss = 0.0883642882109, Training accuracy = 0.899999976158\n",
      "Iter 3900, Minibatch Loss = 0.0288253072649, Training accuracy = 1.0\n",
      "Iter 4000, Minibatch Loss = 0.118715263903, Training accuracy = 1.0\n",
      "Iter 4100, Minibatch Loss = 0.00341177964583, Training accuracy = 1.0\n",
      "Iter 4200, Minibatch Loss = 0.00362615589984, Training accuracy = 1.0\n",
      "Iter 100, Minibatch Loss = 0.00385864963755, Training accuracy = 1.0\n",
      "Iter 200, Minibatch Loss = 0.0173409357667, Training accuracy = 1.0\n",
      "Iter 300, Minibatch Loss = 0.0105862794444, Training accuracy = 1.0\n",
      "Iter 400, Minibatch Loss = 0.478150546551, Training accuracy = 0.899999976158\n",
      "Iter 500, Minibatch Loss = 0.00340069038793, Training accuracy = 1.0\n",
      "Iter 600, Minibatch Loss = 0.164206489921, Training accuracy = 1.0\n",
      "Iter 700, Minibatch Loss = 0.00708940625191, Training accuracy = 1.0\n",
      "Iter 800, Minibatch Loss = 0.26262140274, Training accuracy = 0.899999976158\n",
      "Iter 900, Minibatch Loss = 0.0179210714996, Training accuracy = 1.0\n",
      "Iter 1000, Minibatch Loss = 0.302306771278, Training accuracy = 0.899999976158\n",
      "Iter 1100, Minibatch Loss = 0.0564922615886, Training accuracy = 1.0\n",
      "Iter 1200, Minibatch Loss = 0.0513093695045, Training accuracy = 1.0\n",
      "Iter 1300, Minibatch Loss = 0.190564066172, Training accuracy = 0.899999976158\n",
      "Iter 1400, Minibatch Loss = 0.207085877657, Training accuracy = 0.899999976158\n",
      "Iter 1500, Minibatch Loss = 0.0190188828856, Training accuracy = 1.0\n",
      "Iter 1600, Minibatch Loss = 0.00716560706496, Training accuracy = 1.0\n",
      "Iter 1700, Minibatch Loss = 0.00370497303084, Training accuracy = 1.0\n",
      "Iter 1800, Minibatch Loss = 0.0129913594574, Training accuracy = 1.0\n",
      "Iter 1900, Minibatch Loss = 0.0237893294543, Training accuracy = 1.0\n",
      "Iter 2000, Minibatch Loss = 0.0209486857057, Training accuracy = 1.0\n",
      "Iter 2100, Minibatch Loss = 0.00573088601232, Training accuracy = 1.0\n",
      "Iter 2200, Minibatch Loss = 0.114864572883, Training accuracy = 0.899999976158\n",
      "Iter 2300, Minibatch Loss = 0.00667493790388, Training accuracy = 1.0\n",
      "Iter 2400, Minibatch Loss = 0.0126753244549, Training accuracy = 1.0\n",
      "Iter 2500, Minibatch Loss = 0.0257591716945, Training accuracy = 1.0\n",
      "Iter 2600, Minibatch Loss = 0.00993666611612, Training accuracy = 1.0\n",
      "Iter 2700, Minibatch Loss = 0.0467641353607, Training accuracy = 1.0\n",
      "Iter 2800, Minibatch Loss = 0.0857582837343, Training accuracy = 1.0\n",
      "Iter 2900, Minibatch Loss = 0.00266201724298, Training accuracy = 1.0\n",
      "Iter 3000, Minibatch Loss = 0.134443849325, Training accuracy = 0.899999976158\n",
      "Iter 3100, Minibatch Loss = 0.116462036967, Training accuracy = 0.899999976158\n",
      "Iter 3200, Minibatch Loss = 0.0854931473732, Training accuracy = 1.0\n",
      "Iter 3300, Minibatch Loss = 0.0694040358067, Training accuracy = 1.0\n",
      "Iter 3400, Minibatch Loss = 0.0168020240963, Training accuracy = 1.0\n",
      "Iter 3500, Minibatch Loss = 0.0676485523582, Training accuracy = 1.0\n",
      "Iter 3600, Minibatch Loss = 0.0248075854033, Training accuracy = 1.0\n",
      "Iter 3700, Minibatch Loss = 0.00430668145418, Training accuracy = 1.0\n",
      "Iter 3800, Minibatch Loss = 0.0581945292652, Training accuracy = 1.0\n",
      "Iter 3900, Minibatch Loss = 0.0151388216764, Training accuracy = 1.0\n",
      "Iter 4000, Minibatch Loss = 0.0952651649714, Training accuracy = 1.0\n",
      "Iter 4100, Minibatch Loss = 0.00277480110526, Training accuracy = 1.0\n",
      "Iter 4200, Minibatch Loss = 0.00269940355793, Training accuracy = 1.0\n",
      "Iter 100, Minibatch Loss = 0.00231943046674, Training accuracy = 1.0\n",
      "Iter 200, Minibatch Loss = 0.0125564411283, Training accuracy = 1.0\n",
      "Iter 300, Minibatch Loss = 0.00677087623626, Training accuracy = 1.0\n",
      "Iter 400, Minibatch Loss = 0.490257740021, Training accuracy = 0.899999976158\n",
      "Iter 500, Minibatch Loss = 0.00232973136008, Training accuracy = 1.0\n",
      "Iter 600, Minibatch Loss = 0.111708715558, Training accuracy = 1.0\n",
      "Iter 700, Minibatch Loss = 0.00680666882545, Training accuracy = 1.0\n",
      "Iter 800, Minibatch Loss = 0.241024881601, Training accuracy = 0.899999976158\n",
      "Iter 900, Minibatch Loss = 0.0140800671652, Training accuracy = 1.0\n",
      "Iter 1000, Minibatch Loss = 0.298144221306, Training accuracy = 0.899999976158\n",
      "Iter 1100, Minibatch Loss = 0.0341607816517, Training accuracy = 1.0\n",
      "Iter 1200, Minibatch Loss = 0.0337076969445, Training accuracy = 1.0\n",
      "Iter 1300, Minibatch Loss = 0.145189031959, Training accuracy = 0.899999976158\n",
      "Iter 1400, Minibatch Loss = 0.167192026973, Training accuracy = 0.899999976158\n",
      "Iter 1500, Minibatch Loss = 0.0168206468225, Training accuracy = 1.0\n",
      "Iter 1600, Minibatch Loss = 0.00566011667252, Training accuracy = 1.0\n"
     ]
    },
    {
     "name": "stdout",
     "output_type": "stream",
     "text": [
      "Iter 1700, Minibatch Loss = 0.00287162349559, Training accuracy = 1.0\n",
      "Iter 1800, Minibatch Loss = 0.00901879929006, Training accuracy = 1.0\n"
     ]
    },
    {
     "ename": "KeyboardInterrupt",
     "evalue": "",
     "output_type": "error",
     "traceback": [
      "\u001b[0;31m---------------------------------------------------------------------------\u001b[0m",
      "\u001b[0;31mKeyboardInterrupt\u001b[0m                         Traceback (most recent call last)",
      "\u001b[0;32m<ipython-input-61-7b07dc9c2bf7>\u001b[0m in \u001b[0;36m<module>\u001b[0;34m()\u001b[0m\n\u001b[1;32m      8\u001b[0m         \u001b[0;32mwhile\u001b[0m \u001b[0mstep\u001b[0m\u001b[0;34m*\u001b[0m\u001b[0mbatch_size\u001b[0m \u001b[0;34m<=\u001b[0m \u001b[0mtrain_data\u001b[0m\u001b[0;34m.\u001b[0m\u001b[0mshape\u001b[0m\u001b[0;34m[\u001b[0m\u001b[0;36m0\u001b[0m\u001b[0;34m]\u001b[0m\u001b[0;34m:\u001b[0m\u001b[0;34m\u001b[0m\u001b[0m\n\u001b[1;32m      9\u001b[0m             \u001b[0mxs\u001b[0m\u001b[0;34m,\u001b[0m \u001b[0mys\u001b[0m \u001b[0;34m=\u001b[0m \u001b[0mtrain_data\u001b[0m\u001b[0;34m[\u001b[0m\u001b[0;34m(\u001b[0m\u001b[0mstep\u001b[0m\u001b[0;34m-\u001b[0m\u001b[0;36m1\u001b[0m\u001b[0;34m)\u001b[0m\u001b[0;34m*\u001b[0m\u001b[0mbatch_size\u001b[0m\u001b[0;34m:\u001b[0m\u001b[0mstep\u001b[0m\u001b[0;34m*\u001b[0m\u001b[0mbatch_size\u001b[0m\u001b[0;34m,\u001b[0m \u001b[0;34m:\u001b[0m\u001b[0;34m]\u001b[0m\u001b[0;34m,\u001b[0m \u001b[0mtrain_label\u001b[0m\u001b[0;34m[\u001b[0m\u001b[0;34m(\u001b[0m\u001b[0mstep\u001b[0m\u001b[0;34m-\u001b[0m\u001b[0;36m1\u001b[0m\u001b[0;34m)\u001b[0m\u001b[0;34m*\u001b[0m\u001b[0mbatch_size\u001b[0m\u001b[0;34m:\u001b[0m\u001b[0mstep\u001b[0m\u001b[0;34m*\u001b[0m\u001b[0mbatch_size\u001b[0m\u001b[0;34m,\u001b[0m \u001b[0;34m:\u001b[0m\u001b[0;34m]\u001b[0m\u001b[0;34m\u001b[0m\u001b[0m\n\u001b[0;32m---> 10\u001b[0;31m             \u001b[0msess\u001b[0m\u001b[0;34m.\u001b[0m\u001b[0mrun\u001b[0m\u001b[0;34m(\u001b[0m\u001b[0moptimizer\u001b[0m\u001b[0;34m,\u001b[0m \u001b[0mfeed_dict\u001b[0m\u001b[0;34m=\u001b[0m\u001b[0;34m{\u001b[0m\u001b[0mX\u001b[0m\u001b[0;34m:\u001b[0m\u001b[0mxs\u001b[0m\u001b[0;34m,\u001b[0m \u001b[0my\u001b[0m\u001b[0;34m:\u001b[0m\u001b[0mys\u001b[0m\u001b[0;34m}\u001b[0m\u001b[0;34m)\u001b[0m\u001b[0;34m\u001b[0m\u001b[0m\n\u001b[0m\u001b[1;32m     11\u001b[0m \u001b[0;34m\u001b[0m\u001b[0m\n\u001b[1;32m     12\u001b[0m             \u001b[0;32mif\u001b[0m \u001b[0mstep\u001b[0m \u001b[0;34m%\u001b[0m \u001b[0;36m100\u001b[0m \u001b[0;34m==\u001b[0m \u001b[0;36m0\u001b[0m\u001b[0;34m:\u001b[0m\u001b[0;34m\u001b[0m\u001b[0m\n",
      "\u001b[0;32m/Library/Python/2.7/site-packages/tensorflow/python/client/session.pyc\u001b[0m in \u001b[0;36mrun\u001b[0;34m(self, fetches, feed_dict, options, run_metadata)\u001b[0m\n\u001b[1;32m    875\u001b[0m     \u001b[0;32mtry\u001b[0m\u001b[0;34m:\u001b[0m\u001b[0;34m\u001b[0m\u001b[0m\n\u001b[1;32m    876\u001b[0m       result = self._run(None, fetches, feed_dict, options_ptr,\n\u001b[0;32m--> 877\u001b[0;31m                          run_metadata_ptr)\n\u001b[0m\u001b[1;32m    878\u001b[0m       \u001b[0;32mif\u001b[0m \u001b[0mrun_metadata\u001b[0m\u001b[0;34m:\u001b[0m\u001b[0;34m\u001b[0m\u001b[0m\n\u001b[1;32m    879\u001b[0m         \u001b[0mproto_data\u001b[0m \u001b[0;34m=\u001b[0m \u001b[0mtf_session\u001b[0m\u001b[0;34m.\u001b[0m\u001b[0mTF_GetBuffer\u001b[0m\u001b[0;34m(\u001b[0m\u001b[0mrun_metadata_ptr\u001b[0m\u001b[0;34m)\u001b[0m\u001b[0;34m\u001b[0m\u001b[0m\n",
      "\u001b[0;32m/Library/Python/2.7/site-packages/tensorflow/python/client/session.pyc\u001b[0m in \u001b[0;36m_run\u001b[0;34m(self, handle, fetches, feed_dict, options, run_metadata)\u001b[0m\n\u001b[1;32m   1098\u001b[0m     \u001b[0;32mif\u001b[0m \u001b[0mfinal_fetches\u001b[0m \u001b[0;32mor\u001b[0m \u001b[0mfinal_targets\u001b[0m \u001b[0;32mor\u001b[0m \u001b[0;34m(\u001b[0m\u001b[0mhandle\u001b[0m \u001b[0;32mand\u001b[0m \u001b[0mfeed_dict_tensor\u001b[0m\u001b[0;34m)\u001b[0m\u001b[0;34m:\u001b[0m\u001b[0;34m\u001b[0m\u001b[0m\n\u001b[1;32m   1099\u001b[0m       results = self._do_run(handle, final_targets, final_fetches,\n\u001b[0;32m-> 1100\u001b[0;31m                              feed_dict_tensor, options, run_metadata)\n\u001b[0m\u001b[1;32m   1101\u001b[0m     \u001b[0;32melse\u001b[0m\u001b[0;34m:\u001b[0m\u001b[0;34m\u001b[0m\u001b[0m\n\u001b[1;32m   1102\u001b[0m       \u001b[0mresults\u001b[0m \u001b[0;34m=\u001b[0m \u001b[0;34m[\u001b[0m\u001b[0;34m]\u001b[0m\u001b[0;34m\u001b[0m\u001b[0m\n",
      "\u001b[0;32m/Library/Python/2.7/site-packages/tensorflow/python/client/session.pyc\u001b[0m in \u001b[0;36m_do_run\u001b[0;34m(self, handle, target_list, fetch_list, feed_dict, options, run_metadata)\u001b[0m\n\u001b[1;32m   1270\u001b[0m     \u001b[0;32mif\u001b[0m \u001b[0mhandle\u001b[0m \u001b[0;32mis\u001b[0m \u001b[0mNone\u001b[0m\u001b[0;34m:\u001b[0m\u001b[0;34m\u001b[0m\u001b[0m\n\u001b[1;32m   1271\u001b[0m       return self._do_call(_run_fn, feeds, fetches, targets, options,\n\u001b[0;32m-> 1272\u001b[0;31m                            run_metadata)\n\u001b[0m\u001b[1;32m   1273\u001b[0m     \u001b[0;32melse\u001b[0m\u001b[0;34m:\u001b[0m\u001b[0;34m\u001b[0m\u001b[0m\n\u001b[1;32m   1274\u001b[0m       \u001b[0;32mreturn\u001b[0m \u001b[0mself\u001b[0m\u001b[0;34m.\u001b[0m\u001b[0m_do_call\u001b[0m\u001b[0;34m(\u001b[0m\u001b[0m_prun_fn\u001b[0m\u001b[0;34m,\u001b[0m \u001b[0mhandle\u001b[0m\u001b[0;34m,\u001b[0m \u001b[0mfeeds\u001b[0m\u001b[0;34m,\u001b[0m \u001b[0mfetches\u001b[0m\u001b[0;34m)\u001b[0m\u001b[0;34m\u001b[0m\u001b[0m\n",
      "\u001b[0;32m/Library/Python/2.7/site-packages/tensorflow/python/client/session.pyc\u001b[0m in \u001b[0;36m_do_call\u001b[0;34m(self, fn, *args)\u001b[0m\n\u001b[1;32m   1276\u001b[0m   \u001b[0;32mdef\u001b[0m \u001b[0m_do_call\u001b[0m\u001b[0;34m(\u001b[0m\u001b[0mself\u001b[0m\u001b[0;34m,\u001b[0m \u001b[0mfn\u001b[0m\u001b[0;34m,\u001b[0m \u001b[0;34m*\u001b[0m\u001b[0margs\u001b[0m\u001b[0;34m)\u001b[0m\u001b[0;34m:\u001b[0m\u001b[0;34m\u001b[0m\u001b[0m\n\u001b[1;32m   1277\u001b[0m     \u001b[0;32mtry\u001b[0m\u001b[0;34m:\u001b[0m\u001b[0;34m\u001b[0m\u001b[0m\n\u001b[0;32m-> 1278\u001b[0;31m       \u001b[0;32mreturn\u001b[0m \u001b[0mfn\u001b[0m\u001b[0;34m(\u001b[0m\u001b[0;34m*\u001b[0m\u001b[0margs\u001b[0m\u001b[0;34m)\u001b[0m\u001b[0;34m\u001b[0m\u001b[0m\n\u001b[0m\u001b[1;32m   1279\u001b[0m     \u001b[0;32mexcept\u001b[0m \u001b[0merrors\u001b[0m\u001b[0;34m.\u001b[0m\u001b[0mOpError\u001b[0m \u001b[0;32mas\u001b[0m \u001b[0me\u001b[0m\u001b[0;34m:\u001b[0m\u001b[0;34m\u001b[0m\u001b[0m\n\u001b[1;32m   1280\u001b[0m       \u001b[0mmessage\u001b[0m \u001b[0;34m=\u001b[0m \u001b[0mcompat\u001b[0m\u001b[0;34m.\u001b[0m\u001b[0mas_text\u001b[0m\u001b[0;34m(\u001b[0m\u001b[0me\u001b[0m\u001b[0;34m.\u001b[0m\u001b[0mmessage\u001b[0m\u001b[0;34m)\u001b[0m\u001b[0;34m\u001b[0m\u001b[0m\n",
      "\u001b[0;32m/Library/Python/2.7/site-packages/tensorflow/python/client/session.pyc\u001b[0m in \u001b[0;36m_run_fn\u001b[0;34m(feed_dict, fetch_list, target_list, options, run_metadata)\u001b[0m\n\u001b[1;32m   1261\u001b[0m       \u001b[0mself\u001b[0m\u001b[0;34m.\u001b[0m\u001b[0m_extend_graph\u001b[0m\u001b[0;34m(\u001b[0m\u001b[0;34m)\u001b[0m\u001b[0;34m\u001b[0m\u001b[0m\n\u001b[1;32m   1262\u001b[0m       return self._call_tf_sessionrun(\n\u001b[0;32m-> 1263\u001b[0;31m           options, feed_dict, fetch_list, target_list, run_metadata)\n\u001b[0m\u001b[1;32m   1264\u001b[0m \u001b[0;34m\u001b[0m\u001b[0m\n\u001b[1;32m   1265\u001b[0m     \u001b[0;32mdef\u001b[0m \u001b[0m_prun_fn\u001b[0m\u001b[0;34m(\u001b[0m\u001b[0mhandle\u001b[0m\u001b[0;34m,\u001b[0m \u001b[0mfeed_dict\u001b[0m\u001b[0;34m,\u001b[0m \u001b[0mfetch_list\u001b[0m\u001b[0;34m)\u001b[0m\u001b[0;34m:\u001b[0m\u001b[0;34m\u001b[0m\u001b[0m\n",
      "\u001b[0;32m/Library/Python/2.7/site-packages/tensorflow/python/client/session.pyc\u001b[0m in \u001b[0;36m_call_tf_sessionrun\u001b[0;34m(self, options, feed_dict, fetch_list, target_list, run_metadata)\u001b[0m\n\u001b[1;32m   1348\u001b[0m     return tf_session.TF_SessionRun_wrapper(\n\u001b[1;32m   1349\u001b[0m         \u001b[0mself\u001b[0m\u001b[0;34m.\u001b[0m\u001b[0m_session\u001b[0m\u001b[0;34m,\u001b[0m \u001b[0moptions\u001b[0m\u001b[0;34m,\u001b[0m \u001b[0mfeed_dict\u001b[0m\u001b[0;34m,\u001b[0m \u001b[0mfetch_list\u001b[0m\u001b[0;34m,\u001b[0m \u001b[0mtarget_list\u001b[0m\u001b[0;34m,\u001b[0m\u001b[0;34m\u001b[0m\u001b[0m\n\u001b[0;32m-> 1350\u001b[0;31m         run_metadata)\n\u001b[0m\u001b[1;32m   1351\u001b[0m \u001b[0;34m\u001b[0m\u001b[0m\n\u001b[1;32m   1352\u001b[0m   \u001b[0;32mdef\u001b[0m \u001b[0m_call_tf_sessionprun\u001b[0m\u001b[0;34m(\u001b[0m\u001b[0mself\u001b[0m\u001b[0;34m,\u001b[0m \u001b[0mhandle\u001b[0m\u001b[0;34m,\u001b[0m \u001b[0mfeed_dict\u001b[0m\u001b[0;34m,\u001b[0m \u001b[0mfetch_list\u001b[0m\u001b[0;34m)\u001b[0m\u001b[0;34m:\u001b[0m\u001b[0;34m\u001b[0m\u001b[0m\n",
      "\u001b[0;31mKeyboardInterrupt\u001b[0m: "
     ]
    }
   ],
   "source": [
    "init = tf.global_variables_initializer()\n",
    "config = tf.ConfigProto()\n",
    "config.gpu_options.allow_growth=True\n",
    "with tf.Session(config=config) as sess:\n",
    "    sess.run(init)\n",
    "    for e in range(epoch):\n",
    "        step = 1\n",
    "        while step*batch_size <= train_data.shape[0]:\n",
    "            xs, ys = train_data[(step-1)*batch_size:step*batch_size, :], train_label[(step-1)*batch_size:step*batch_size, :]\n",
    "            sess.run(optimizer, feed_dict={X:xs, y:ys})\n",
    "            \n",
    "            if step % 100 == 0:\n",
    "                loss, acc = sess.run([cost,accuracy], feed_dict={X:xs, y:ys})\n",
    "                print(\"Iter {0}, Minibatch Loss = {1}, Training accuracy = {2}\".format(str(step),loss,acc))\n",
    "                \n",
    "            step += 1\n",
    "    print(\"Optimization Completed\")\n",
    "    test_labels = []\n",
    "    for i in range(1000):\n",
    "        xs, ys = test_data[i*28:(i+1)*28, :], test_data[i*28:(i+1)*28, 0:10]\n",
    "        pred_ = sess.run(label, feed_dict={X:xs, y:ys})\n",
    "        test_labels.extend(list(pred_))\n",
    "        \n",
    "f1 = open('label','wb')\n",
    "pickle.dump(test_labels, f1)\n",
    "f1.close()\n",
    "\n",
    "df = pd.DataFrame({'Label' : test_labels})\n",
    "df1 = pd.concat([pd.Series(range(1,28001), name='ImageId'), df[['Label']]], axis=1)\n",
    "df1.to_csv('ConvPool_X2.csv', index=False)\n",
    "            \n",
    "            "
   ]
  },
  {
   "cell_type": "code",
   "execution_count": null,
   "metadata": {},
   "outputs": [],
   "source": []
  }
 ],
 "metadata": {
  "kernelspec": {
   "display_name": "Python 2",
   "language": "python",
   "name": "python2"
  },
  "language_info": {
   "codemirror_mode": {
    "name": "ipython",
    "version": 2
   },
   "file_extension": ".py",
   "mimetype": "text/x-python",
   "name": "python",
   "nbconvert_exporter": "python",
   "pygments_lexer": "ipython2",
   "version": "2.7.10"
  }
 },
 "nbformat": 4,
 "nbformat_minor": 2
}
