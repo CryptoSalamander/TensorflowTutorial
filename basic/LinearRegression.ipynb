{
 "cells": [
  {
   "cell_type": "markdown",
   "metadata": {},
   "source": [
    "# X와 Y의 상관관계를 분석하는 가장 기본적인 Linear Regression Model을 구현"
   ]
  },
  {
   "cell_type": "code",
   "execution_count": 1,
   "metadata": {},
   "outputs": [],
   "source": [
    "import tensorflow as tf\n",
    "\n",
    "x_data = [1,2,3]\n",
    "y_data = [1,2,3]"
   ]
  },
  {
   "cell_type": "code",
   "execution_count": 2,
   "metadata": {},
   "outputs": [],
   "source": [
    "W = tf.Variable(tf.random_uniform([1],-1.0,1.0))\n",
    "b = tf.Variable(tf.random_uniform([1],-1.0,1.0))"
   ]
  },
  {
   "cell_type": "markdown",
   "metadata": {},
   "source": [
    "tf.random_uniform는 균등분포 난수 생성으로, -1.0~1.0 사이의 실수를 난수로 생성한다."
   ]
  },
  {
   "cell_type": "code",
   "execution_count": 3,
   "metadata": {},
   "outputs": [
    {
     "name": "stdout",
     "output_type": "stream",
     "text": [
      "Tensor(\"X:0\", dtype=float32)\n",
      "Tensor(\"Y:0\", dtype=float32)\n"
     ]
    }
   ],
   "source": [
    "X = tf.placeholder(tf.float32, name=\"X\")\n",
    "Y = tf.placeholder(tf.float32, name=\"Y\")\n",
    "print(X)\n",
    "print(Y)"
   ]
  },
  {
   "cell_type": "markdown",
   "metadata": {},
   "source": [
    "Name에는 큰 의미가 있지는 않지만, 텐서보드 등으로 값의 변화를 추적하거나 살펴보기 쉽게 하기 위해 이름을 붙여준다."
   ]
  },
  {
   "cell_type": "code",
   "execution_count": 4,
   "metadata": {},
   "outputs": [],
   "source": [
    "hypothesis = W * X + b"
   ]
  },
  {
   "cell_type": "markdown",
   "metadata": {},
   "source": [
    "손실 함수를 작성합니다.  \n",
    "\\\\(mean(h - Y)^2\\\\)는 예측값과 실제값의 거리를 비용(손실) 함수로 정한다,"
   ]
  },
  {
   "cell_type": "code",
   "execution_count": 5,
   "metadata": {},
   "outputs": [],
   "source": [
    "cost = tf.reduce_mean(tf.square(hypothesis - Y))"
   ]
  },
  {
   "cell_type": "markdown",
   "metadata": {},
   "source": [
    "텐서플로우에 기본적으로 포함되어 있는 함수를 이용해 Gradient Descent."
   ]
  },
  {
   "cell_type": "code",
   "execution_count": 6,
   "metadata": {},
   "outputs": [],
   "source": [
    "optimizer = tf.train.GradientDescentOptimizer(learning_rate=0.1)\n",
    "train_op = optimizer.minimize(cost)"
   ]
  },
  {
   "cell_type": "markdown",
   "metadata": {},
   "source": [
    "Cost 값을 최소로 만드는 것을 목표로 설정한다."
   ]
  },
  {
   "cell_type": "code",
   "execution_count": 7,
   "metadata": {},
   "outputs": [
    {
     "name": "stdout",
     "output_type": "stream",
     "text": [
      "(100, 0.0011763852, array([0.96112216], dtype=float32), array([0.08837859], dtype=float32))\n",
      "(200, 9.057695e-06, array([0.9965886], dtype=float32), array([0.00775497], dtype=float32))\n",
      "(300, 6.975015e-08, array([0.9997006], dtype=float32), array([0.00068051], dtype=float32))\n",
      "(400, 5.3579186e-10, array([0.9999737], dtype=float32), array([5.973528e-05], dtype=float32))\n",
      "(500, 4.0595674e-12, array([0.9999977], dtype=float32), array([5.2725272e-06], dtype=float32))\n",
      "(600, 6.158037e-14, array([0.9999997], dtype=float32), array([6.472081e-07], dtype=float32))\n",
      "(700, 0.0, array([1.], dtype=float32), array([5.910877e-08], dtype=float32))\n",
      "(800, 0.0, array([1.], dtype=float32), array([5.910877e-08], dtype=float32))\n",
      "(900, 0.0, array([1.], dtype=float32), array([5.910877e-08], dtype=float32))\n",
      "(1000, 0.0, array([1.], dtype=float32), array([5.910877e-08], dtype=float32))\n",
      "\n",
      "=== Test ===\n",
      "('X: 5, Y:', array([5.], dtype=float32))\n",
      "('X: 2.5, Y:', array([2.5], dtype=float32))\n"
     ]
    }
   ],
   "source": [
    "with tf.Session() as sess:\n",
    "    sess.run(tf.global_variables_initializer())\n",
    "    \n",
    "    for step in range(1000):\n",
    "        _, cost_val = sess.run([train_op, cost], feed_dict={X: x_data, Y: y_data})\n",
    "        \n",
    "        if ( step + 1 ) % 100 == 0:\n",
    "            print(step+1, cost_val, sess.run(W), sess.run(b))\n",
    "        \n",
    "    print(\"\\n=== Test ===\")\n",
    "    print(\"X: 5, Y:\", sess.run(hypothesis, feed_dict={X:5}))\n",
    "    print(\"X: 2.5, Y:\", sess.run(hypothesis, feed_dict={X:2.5}))"
   ]
  },
  {
   "cell_type": "markdown",
   "metadata": {},
   "source": [
    "Step을 100으로 했을 땐, 정확도가 그다지 높지 않았지만, Step을 1000으로 바꿨더니 Y = X와 상당히 근접한 값을 얻어낼 수 있었다."
   ]
  }
 ],
 "metadata": {
  "kernelspec": {
   "display_name": "Python 2",
   "language": "python",
   "name": "python2"
  },
  "language_info": {
   "codemirror_mode": {
    "name": "ipython",
    "version": 2
   },
   "file_extension": ".py",
   "mimetype": "text/x-python",
   "name": "python",
   "nbconvert_exporter": "python",
   "pygments_lexer": "ipython2",
   "version": "2.7.10"
  }
 },
 "nbformat": 4,
 "nbformat_minor": 2
}
