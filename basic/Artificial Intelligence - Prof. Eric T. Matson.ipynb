{
 "cells": [
  {
   "cell_type": "markdown",
   "metadata": {},
   "source": [
    "#                                        AI Lecture - 2018.09.24"
   ]
  },
  {
   "cell_type": "markdown",
   "metadata": {},
   "source": [
    "머신러닝만이 AI는 아니다. \n",
    "머신러닝은 AI 분야에서 하나의 작은 부분이자 Major Flaw일 뿐이다."
   ]
  },
  {
   "cell_type": "markdown",
   "metadata": {},
   "source": [
    "# 목차\n",
    "- Inteligent Agents\n",
    "- Search and Game-Playing\n",
    "- Logical Systems\n",
    "- Planning Systems\n",
    "- Uncertainty - Probability and Decision Theory\n",
    "- Learning \n",
    "- Language\n",
    "- Perception\n",
    "- Robotics\n",
    "- Philosophical Issues"
   ]
  },
  {
   "cell_type": "markdown",
   "metadata": {},
   "source": [
    "|      Humanly     \t|      Rational     \t|\n",
    "|:----------------:\t|:-----------------:\t|\n",
    "|    Act Humanly   \t|    Act Rational   \t|\n",
    "| Thinking Humanly \t| Thinking Rational \t| "
   ]
  },
  {
   "cell_type": "markdown",
   "metadata": {},
   "source": [
    "## Thinking Humanly : Science of Cognition"
   ]
  },
  {
   "cell_type": "markdown",
   "metadata": {},
   "source": [
    "## Thinking Rationally : Laws of Thought\n",
    "사회 규범, Norm에 기반한 의사 결정  \n",
    "Philsophy and Mathematics -> Modern AI"
   ]
  },
  {
   "cell_type": "markdown",
   "metadata": {},
   "source": [
    "## Acting Rationally : Rational Behavior\n",
    "합리적으로 생각하여 자신의 이득을 최대화 시키는 의사 결정  \n",
    "AI의 목적은 단순히 Goal Achivement이므로, 이를 가장 큰 이득을 얻으면서 만족시키는 방법을 학습해야 한다.\n",
    "### Rational Agents\n",
    "의사 결정의 주체는 모두 Agents라고 칭할 수 있으며, 그들은 과거로부터 얻은 경험을 바탕으로 가장 좋은 성능을 낼 수 있는 방향으로 결정을 한다.  \n",
    "Caveat : 언제나 완벽하게 합리적인 선택을 하는 시스템을 만들 수는 없다."
   ]
  },
  {
   "cell_type": "markdown",
   "metadata": {},
   "source": []
  }
 ],
 "metadata": {
  "kernelspec": {
   "display_name": "Python 2",
   "language": "python",
   "name": "python2"
  },
  "language_info": {
   "codemirror_mode": {
    "name": "ipython",
    "version": 2
   },
   "file_extension": ".py",
   "mimetype": "text/x-python",
   "name": "python",
   "nbconvert_exporter": "python",
   "pygments_lexer": "ipython2",
   "version": "2.7.10"
  }
 },
 "nbformat": 4,
 "nbformat_minor": 2
}
