{
 "cells": [
  {
   "cell_type": "markdown",
   "metadata": {},
   "source": [
    "# MNIST Tutorial"
   ]
  },
  {
   "cell_type": "code",
   "execution_count": 8,
   "metadata": {},
   "outputs": [
    {
     "name": "stdout",
     "output_type": "stream",
     "text": [
      "Extracting ./mnist/data/train-images-idx3-ubyte.gz\n",
      "Extracting ./mnist/data/train-labels-idx1-ubyte.gz\n",
      "Extracting ./mnist/data/t10k-images-idx3-ubyte.gz\n",
      "Extracting ./mnist/data/t10k-labels-idx1-ubyte.gz\n"
     ]
    }
   ],
   "source": [
    "import tensorflow as tf\n",
    "import numpy as np\n",
    "import matplotlib.pyplot as plt\n",
    "from tensorflow.examples.tutorials.mnist import input_data\n",
    "mnist = input_data.read_data_sets(\"./mnist/data/\", one_hot=True)"
   ]
  },
  {
   "cell_type": "markdown",
   "metadata": {},
   "source": [
    "### Neural Network Contruction"
   ]
  },
  {
   "cell_type": "code",
   "execution_count": 9,
   "metadata": {},
   "outputs": [],
   "source": [
    "X = tf.placeholder(tf.float32, [None, 784])\n",
    "Y = tf.placeholder(tf.float32, [None,10])\n",
    "keep_prob = tf.placeholder(tf.float32)"
   ]
  },
  {
   "cell_type": "markdown",
   "metadata": {},
   "source": [
    "사진의 해상도가 28*28 이므로 각각의 픽셀을 feature로 사용하여 784개로 정한다.  \n",
    "결과는 0~9의 10가지 분류를 가지므로 10으로 한다."
   ]
  },
  {
   "cell_type": "code",
   "execution_count": 10,
   "metadata": {},
   "outputs": [],
   "source": [
    "W1 = tf.Variable(tf.random_normal([784,256], stddev=0.01))\n",
    "L1 = tf.nn.relu(tf.matmul(X,W1))\n",
    "L1 = tf.nn.dropout(L1, keep_prob)\n",
    "\n",
    "W2 = tf.Variable(tf.random_normal([256,256], stddev=0.01))\n",
    "L2 = tf.nn.relu(tf.matmul(L1,W2))\n",
    "L2 = tf.nn.dropout(L2, keep_prob)\n",
    "\n",
    "W3 = tf.Variable(tf.random_normal([256,10], stddev=0.01))\n",
    "model  = tf.matmul(L2,W3)\n",
    "\n",
    "cost = tf.reduce_mean(tf.nn.softmax_cross_entropy_with_logits_v2(logits=model,labels=Y))\n",
    "optimizer = tf.train.AdamOptimizer(0.001).minimize(cost)"
   ]
  },
  {
   "cell_type": "markdown",
   "metadata": {},
   "source": [
    "Neural Network의 Layer는 784 -> 256 -> 256 -> 10으로 구성되어 있다.\n",
    "이때 오버피팅을 방지하기 위해서 dropout 함수를 사용한다.\n",
    "\n",
    "## dropout 함수란?\n",
    "Neural Network에서는 망의 크기가 커질 수록 정확도도 높아지지만, 그만큼 Overfitting의 가능성도 높아지게 된다. Dropout 함수는 어떤 학습을 할 때, 망에 있는 모든 layer에 대해서 학습을 수행하지 않고 아래 그림과 같이 입력 layer나 hidden layer의 일부 뉴런을 생략(dropout)하고 줄어든 신경망을 통해 학습을 수행한다.  \n",
    "![Image](https://cdn-images-1.medium.com/max/1044/1*iWQzxhVlvadk6VAJjsgXgg.png)"
   ]
  },
  {
   "cell_type": "markdown",
   "metadata": {},
   "source": [
    "## Neural Network 학습"
   ]
  },
  {
   "cell_type": "code",
   "execution_count": 11,
   "metadata": {},
   "outputs": [
    {
     "name": "stdout",
     "output_type": "stream",
     "text": [
      "('Epoch:', '0001', 'Avg. Cost = ', '0.422')\n",
      "('Epoch:', '0002', 'Avg. Cost = ', '0.159')\n",
      "('Epoch:', '0003', 'Avg. Cost = ', '0.112')\n",
      "('Epoch:', '0004', 'Avg. Cost = ', '0.088')\n",
      "('Epoch:', '0005', 'Avg. Cost = ', '0.074')\n",
      "('Epoch:', '0006', 'Avg. Cost = ', '0.058')\n",
      "('Epoch:', '0007', 'Avg. Cost = ', '0.052')\n",
      "('Epoch:', '0008', 'Avg. Cost = ', '0.045')\n",
      "('Epoch:', '0009', 'Avg. Cost = ', '0.042')\n",
      "('Epoch:', '0010', 'Avg. Cost = ', '0.036')\n",
      "('Epoch:', '0011', 'Avg. Cost = ', '0.035')\n",
      "('Epoch:', '0012', 'Avg. Cost = ', '0.032')\n",
      "('Epoch:', '0013', 'Avg. Cost = ', '0.028')\n",
      "('Epoch:', '0014', 'Avg. Cost = ', '0.027')\n",
      "('Epoch:', '0015', 'Avg. Cost = ', '0.029')\n",
      "('Epoch:', '0016', 'Avg. Cost = ', '0.022')\n",
      "('Epoch:', '0017', 'Avg. Cost = ', '0.023')\n",
      "('Epoch:', '0018', 'Avg. Cost = ', '0.021')\n",
      "('Epoch:', '0019', 'Avg. Cost = ', '0.020')\n",
      "('Epoch:', '0020', 'Avg. Cost = ', '0.022')\n",
      "('Epoch:', '0021', 'Avg. Cost = ', '0.020')\n",
      "('Epoch:', '0022', 'Avg. Cost = ', '0.019')\n",
      "('Epoch:', '0023', 'Avg. Cost = ', '0.017')\n",
      "('Epoch:', '0024', 'Avg. Cost = ', '0.018')\n",
      "('Epoch:', '0025', 'Avg. Cost = ', '0.017')\n",
      "('Epoch:', '0026', 'Avg. Cost = ', '0.016')\n",
      "('Epoch:', '0027', 'Avg. Cost = ', '0.017')\n",
      "('Epoch:', '0028', 'Avg. Cost = ', '0.017')\n",
      "('Epoch:', '0029', 'Avg. Cost = ', '0.017')\n",
      "('Epoch:', '0030', 'Avg. Cost = ', '0.016')\n",
      "Optimization Complete!\n"
     ]
    }
   ],
   "source": [
    "init = tf.global_variables_initializer()\n",
    "sess = tf.Session()\n",
    "sess.run(init)\n",
    "\n",
    "batch_size = 100\n",
    "total_batch = int(mnist.train.num_examples / batch_size)\n",
    "\n",
    "for epoch in range(30):\n",
    "    total_cost = 0\n",
    "    \n",
    "    for i in range(total_batch):\n",
    "        batch_xs, batch_ys = mnist.train.next_batch(batch_size)\n",
    "        _, cost_val = sess.run([optimizer, cost], feed_dict = {X: batch_xs, Y: batch_ys, keep_prob:0.8})\n",
    "        total_cost += cost_val\n",
    "        \n",
    "    print('Epoch:', '%04d' % (epoch + 1), 'Avg. Cost = ', '{:.3f}'.format(total_cost / total_batch))\n",
    "print('Optimization Complete!')"
   ]
  },
  {
   "cell_type": "markdown",
   "metadata": {},
   "source": [
    "## 결과 확인"
   ]
  },
  {
   "cell_type": "code",
   "execution_count": 12,
   "metadata": {},
   "outputs": [
    {
     "name": "stdout",
     "output_type": "stream",
     "text": [
      "('Accuracy : ', 0.9821)\n"
     ]
    }
   ],
   "source": [
    "is_correct = tf.equal(tf.argmax(model, 1), tf.argmax(Y,1))\n",
    "accuracy = tf.reduce_mean(tf.cast(is_correct, tf.float32))\n",
    "print('Accuracy : ', sess.run(accuracy, feed_dict={X:mnist.test.images, Y:mnist.test.labels, keep_prob:1}))"
   ]
  },
  {
   "cell_type": "code",
   "execution_count": 13,
   "metadata": {},
   "outputs": [
    {
     "data": {
      "image/png": "[encoded data removed]",
      "text/plain": [
       "<Figure size 432x288 with 10 Axes>"
      ]
     },
     "metadata": {},
     "output_type": "display_data"
    }
   ],
   "source": [
    "labels = sess.run(model, feed_dict={X: mnist.test.images, Y: mnist.test.labels, keep_prob: 1})\n",
    "fig = plt.figure()\n",
    "for i in range(10):\n",
    "    subplot = fig.add_subplot(2,5,i+1)\n",
    "    subplot.set_xticks([])\n",
    "    subplot.set_yticks([])\n",
    "    subplot.set_title('%d' % np.argmax(labels[i]))\n",
    "    subplot.imshow(mnist.test.images[i].reshape((28,28)),cmap=plt.cm.gray_r)\n",
    "    \n",
    "plt.show()"
   ]
  }
 ],
 "metadata": {
  "kernelspec": {
   "display_name": "Python 2",
   "language": "python",
   "name": "python2"
  },
  "language_info": {
   "codemirror_mode": {
    "name": "ipython",
    "version": 2
   },
   "file_extension": ".py",
   "mimetype": "text/x-python",
   "name": "python",
   "nbconvert_exporter": "python",
   "pygments_lexer": "ipython2",
   "version": "2.7.10"
  }
 },
 "nbformat": 4,
 "nbformat_minor": 2
}
